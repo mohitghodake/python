{
 "cells": [
  {
   "cell_type": "code",
   "execution_count": null,
   "metadata": {},
   "outputs": [],
   "source": [
    "'''1. Given an array A (distinct elements) of size N. Rearrange the\n",
    "elements of array in zig-zag fashion. The converted array should be in\n",
    "form a < b > c < d > e < f. The relative order of elements is same in the\n",
    "output i.e you have to iterate on the original array only.\n",
    "Input:\n",
    "Each test case takes a line containing N space-separated integers\n",
    "denoting the elements of the array.\n",
    "Output:\n",
    "For each test case, print the array in Zig-Zag fashion.\n",
    "Constraints:\n",
    "1 <= N <= 100\n",
    "0 <= Ai <= 10000\n",
    "Example:\n",
    "Input:\n",
    "4 3 7 8 6 2 1\n",
    "1 4 3 2\n",
    "Output:\n",
    "3 7 4 8 2 6 1\n",
    "1 4 2 3\n",
    "'''\n"
   ]
  },
  {
   "cell_type": "code",
   "execution_count": null,
   "metadata": {},
   "outputs": [],
   "source": [
    "'''2. Given an array C of size N-1 and given that there are numbers\n",
    "from 1 to N with one element missing, the missing number is to be\n",
    "found.\n",
    "Input:\n",
    "Each test case takes a line containing N-1 array elements (random\n",
    "order).\n",
    "Output:\n",
    "Print the missing number in array.\n",
    "Constraints:\n",
    "106 ≤ N ≤ 109\n",
    "Example:\n",
    "Input:\n",
    "1 5 3 2\n",
    "10 2 8 4 7 5 6 3 1\n",
    "Output:\n",
    "4\n",
    "9\n",
    "'''"
   ]
  },
  {
   "cell_type": "code",
   "execution_count": null,
   "metadata": {},
   "outputs": [],
   "source": [
    "'''\n",
    "3. Given a string S, find length of the longest substring with all distinct\n",
    "characters. For example, for input \"abca\", the output is 3 as \"abc\" is the\n",
    "longest substring with all distinct characters.\n",
    "Input:\n",
    "Each test case in a line is String str.\n",
    "Output:\n",
    "Print length of substring with maximum number of distinct characters.\n",
    "Note: The output substring should have all distinct characters.\n",
    "Constraints:\n",
    "1 ≤ size of str ≤ 10000\n",
    "Example:\n",
    "Input:\n",
    "abababcdefababcdab\n",
    "geeksforgeeks\n",
    "Output:\n",
    "6\n",
    "7\n",
    "'''"
   ]
  }
 ],
 "metadata": {
  "kernelspec": {
   "display_name": "Python 3",
   "language": "python",
   "name": "python3"
  },
  "language_info": {
   "codemirror_mode": {
    "name": "ipython",
    "version": 3
   },
   "file_extension": ".py",
   "mimetype": "text/x-python",
   "name": "python",
   "nbconvert_exporter": "python",
   "pygments_lexer": "ipython3",
   "version": "3.7.3"
  }
 },
 "nbformat": 4,
 "nbformat_minor": 2
}
