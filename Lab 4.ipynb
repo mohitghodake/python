{
 "cells": [
  {
   "cell_type": "code",
   "execution_count": 1,
   "metadata": {},
   "outputs": [],
   "source": [
    "import MySQLdb\n",
    "\n",
    "#Open Connection\n",
    "db = MySQLdb.connect(\"localhost\", \"root\", \"pass\", \"testdb\")\n",
    "\n",
    "cursor = db.cursor()\n",
    "\n",
    "createTable = \"create table doctors( \\\n",
    "               docID int(11) NOT NULL, \\\n",
    "               name VARCHAR(50), \\\n",
    "               speciality VARCHAR(50), \\\n",
    "               numReviews int(11), \\\n",
    "               city tinytext, \\\n",
    "               state varchar(2), \\\n",
    "               PRIMARY KEY ( docID ) \\\n",
    "                );\"\n",
    "try:\n",
    "    cursor.execute(createTable)\n",
    "    db.commit()\n",
    "    \n",
    "except:\n",
    "    db.rollback()"
   ]
  },
  {
   "cell_type": "code",
   "execution_count": 2,
   "metadata": {},
   "outputs": [],
   "source": [
    "fh = open('doctors.txt', 'r')\n",
    "lines = fh.readlines()\n",
    "myList = []\n",
    "newList = []\n",
    "\n",
    "for line in lines:\n",
    "    myList.append(line.rstrip('\\n').split(','))\n",
    "    \n",
    "for i in range(len(myList)):\n",
    "    myList[i][0] = int(myList[i][0])\n",
    "    myList[i][3] = int(myList[i][3])\n",
    "\n",
    "newList = [tuple(i) for i in myList]"
   ]
  },
  {
   "cell_type": "code",
   "execution_count": 3,
   "metadata": {},
   "outputs": [],
   "source": [
    "for i in newList:\n",
    "    insert = \"insert into doctors(docID, name, speciality, numReviews, city, state) \\\n",
    "    values\" + str(i)\n",
    "    cursor.execute(insert)\n",
    "    \n",
    "db.commit()"
   ]
  },
  {
   "cell_type": "code",
   "execution_count": 4,
   "metadata": {},
   "outputs": [
    {
     "name": "stdout",
     "output_type": "stream",
     "text": [
      "The Total Number of Doctors in the state of MD is 8536\n",
      "The Average Number of Reviews in the sate of MD is 3.4866\n"
     ]
    }
   ],
   "source": [
    "def function1():\n",
    "    try:\n",
    "        query = \"select count(*) from doctors where state like 'MD'\"\n",
    "        cursor.execute(query)\n",
    "        results = cursor.fetchone()\n",
    "        totalDoctors = results[0]\n",
    "        print(\"The Total Number of Doctors in the state of MD is\",totalDoctors)\n",
    "        \n",
    "    except:\n",
    "        print(\"Unable to Fetch Data!\")\n",
    "    \n",
    "    try:\n",
    "        query = \"select avg(numReviews) from doctors where state like 'MD'\"\n",
    "        cursor.execute(query)\n",
    "        results = cursor.fetchone()\n",
    "        avgReviews = results[0]\n",
    "        print(\"The Average Number of Reviews in the sate of MD is\",avgReviews)   \n",
    "        \n",
    "    except:    \n",
    "        print(\"Unable to Fetch Data!\")\n",
    "\n",
    "    \n",
    "function1()   "
   ]
  },
  {
   "cell_type": "code",
   "execution_count": 16,
   "metadata": {},
   "outputs": [
    {
     "name": "stdout",
     "output_type": "stream",
     "text": [
      "Name \t \t \t Speciality\n",
      "Dr. Paul J. Mackoul \t Gynecologist (OBGYN)\n",
      "Dr. Franklin D. Richards \t Cosmetic Surgeon / Plastic Surgeon\n",
      "Dr. Lucie Duclos \t Cosmetic Surgeon / Plastic Surgeon\n",
      "Dr. Roanne J. Wiczer \t Dentist\n",
      "Dr. Kurt J. Bennett \t Optometrist\n",
      "Dr. Neal Kravitz \t Orthodontist\n",
      "Dr. George L. Grillon \t Oral Surgeon\n",
      "Dr. Douglas L. Forman \t Cosmetic Surgeon / Plastic Surgeon\n",
      "Dr. Chris E. Majewski \t Podiatrist\n",
      "Dr. Kurt Pierce \t Orthodontist\n"
     ]
    }
   ],
   "source": [
    "def function2():\n",
    "    try:\n",
    "        query = \"\"\"select name, speciality from doctors\n",
    "                   where state like 'MD'\n",
    "                   order by numReviews desc\n",
    "                   limit 10; \n",
    "                \"\"\"\n",
    "        cursor.execute(query)\n",
    "        results = cursor.fetchall()\n",
    "        print(\"Name\", \"\\t \\t \\t\", \"Speciality\")\n",
    "        for rows in results:\n",
    "            name = rows[0]\n",
    "            speciality = rows[1]\n",
    "            print(name, \"\\t\", speciality)\n",
    "            \n",
    "    except:\n",
    "        print(\"Unable to Fetch Data!\")\n",
    "    \n",
    "function2()    "
   ]
  },
  {
   "cell_type": "code",
   "execution_count": 18,
   "metadata": {},
   "outputs": [
    {
     "name": "stdout",
     "output_type": "stream",
     "text": [
      "Number of rows where State not present is 155\n"
     ]
    }
   ],
   "source": [
    "def function3():\n",
    "    try:\n",
    "        query = \"\"\"update doctors set state = 'U'\n",
    "                   where state like '-';\"\"\"\n",
    "        cursor.execute(query)\n",
    "        db.commit()        \n",
    "    except:\n",
    "        db.rollback()\n",
    "        \n",
    "    try:\n",
    "        query = \"\"\"select count(*) from doctors\n",
    "                   where state like 'U';\"\"\"\n",
    "        cursor.execute(query)\n",
    "        results = cursor.fetchone()\n",
    "        rows = results[0]\n",
    "        print(\"Number of rows where State not present is\",rows)\n",
    "        \n",
    "    except:\n",
    "        print(\"Unable to Fetch Data!\")\n",
    "           \n",
    "function3()    "
   ]
  },
  {
   "cell_type": "code",
   "execution_count": null,
   "metadata": {},
   "outputs": [],
   "source": [
    "#close connect\n",
    "db.close()"
   ]
  }
 ],
 "metadata": {
  "kernelspec": {
   "display_name": "Python 3",
   "language": "python",
   "name": "python3"
  },
  "language_info": {
   "codemirror_mode": {
    "name": "ipython",
    "version": 3
   },
   "file_extension": ".py",
   "mimetype": "text/x-python",
   "name": "python",
   "nbconvert_exporter": "python",
   "pygments_lexer": "ipython3",
   "version": "3.7.3"
  }
 },
 "nbformat": 4,
 "nbformat_minor": 2
}
