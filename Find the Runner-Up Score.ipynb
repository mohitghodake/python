{
 "cells": [
  {
   "cell_type": "code",
   "execution_count": 3,
   "metadata": {},
   "outputs": [
    {
     "name": "stdout",
     "output_type": "stream",
     "text": [
      "Enter the number of Scores you want to Enter:5\n",
      "Enter score: 2\n",
      "Enter score: 3\n",
      "Enter score: 6\n",
      "Enter score: 6\n",
      "Enter score: 5\n",
      "5\n"
     ]
    }
   ],
   "source": [
    "'''\n",
    "Given the participants' score sheet for your University Sports Day, you are required to find the runner-up score. You are given  scores. Store them in a list and find the score of the runner-up.\n",
    "\n",
    "Input Format\n",
    "\n",
    "The first line contains . The second line contains an array   of  integers each separated by a space.\n",
    "\n",
    "Constraints\n",
    "\n",
    "Output Format\n",
    "\n",
    "Print the runner-up score.\n",
    "\n",
    "Sample Input \n",
    "5\n",
    "2 3 6 6 5\n",
    "\n",
    "Sample Output\n",
    "5\n",
    "'''\n",
    "\n",
    "n = int(input(\"Enter the number of Scores you want to Enter:\"))\n",
    "myList = []\n",
    "\n",
    "for i in range(0, n):\n",
    "    x = int(input(\"Enter score: \"))\n",
    "    if x not in myList:\n",
    "        myList.append(x)\n",
    "\n",
    "myList.sort()\n",
    "print(myList[-2])"
   ]
  }
 ],
 "metadata": {
  "kernelspec": {
   "display_name": "Python 3",
   "language": "python",
   "name": "python3"
  },
  "language_info": {
   "codemirror_mode": {
    "name": "ipython",
    "version": 3
   },
   "file_extension": ".py",
   "mimetype": "text/x-python",
   "name": "python",
   "nbconvert_exporter": "python",
   "pygments_lexer": "ipython3",
   "version": "3.7.3"
  }
 },
 "nbformat": 4,
 "nbformat_minor": 2
}
