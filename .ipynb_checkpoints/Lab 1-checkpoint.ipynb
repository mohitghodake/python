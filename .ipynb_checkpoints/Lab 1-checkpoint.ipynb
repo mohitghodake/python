{
 "cells": [
  {
   "cell_type": "code",
   "execution_count": null,
   "metadata": {},
   "outputs": [],
   "source": [
    "'''1. Write a Python program that prints each item and its corresponding type from the following list. (10 mins) \n",
    "Sample List: datalist = [1452, 11.23, 1+2j, True, 'University of Maryland', (0, -1), [5, 12], {\"class\":'404', \"section\":'A'}]'''\n",
    "\n",
    "datalist = [1452, 11.23, 1+2j, True, 'University of Maryland', (0, -1), [5, 12], {\"class\":'404', \"section\":'A'}]\n",
    "\n",
    "for i in datalist:\n",
    "    print(i, \"Type\", type(i))\n"
   ]
  },
  {
   "cell_type": "code",
   "execution_count": null,
   "metadata": {},
   "outputs": [
    {
     "name": "stdout",
     "output_type": "stream",
     "text": [
      "Select operation: 1.ADD 2.Subtract 3.Multiply 4.Divide\n",
      "Enter choice (1/2/3/4): 2\n",
      "Enter first number: 10\n",
      "Enter second number: 20\n",
      "10  -  20  =  -10\n"
     ]
    }
   ],
   "source": [
    "'''2. Create a calculator that can add, subtract, multiply or divide depending upon\n",
    "the input from the user, using loop and conditional statements. (20 mins)\n",
    "Sample running output:\n",
    "Select operation: 1.Add 2.Subtract 3.Multiply 4.Divide\n",
    "Enter choice (1/2/3/4): 3\n",
    "Enter first number: 15\n",
    "Enter second number: 14\n",
    "15 * 14 = 210\n",
    "Do you want to do another calculation (y/n)? n (if ‘y’, run your program again)\n",
    "Bye…\n",
    "'''\n",
    "\n",
    "while(True):\n",
    "    print(\"Select operation: 1.ADD 2.Subtract 3.Multiply 4.Divide\")\n",
    "    x=int(input(\"Enter choice (1/2/3/4): \"))\n",
    "    y=int(input(\"Enter first number: \"))\n",
    "    z=int(input(\"Enter second number: \"))\n",
    "                \n",
    "    if(x==1):\n",
    "        i=y+z\n",
    "        print(y, \" + \", z,\" = \", i)\n",
    "     \n",
    "    elif(x==2):\n",
    "        i=y-z\n",
    "        print(y, \" - \", z,\" = \", i)    \n",
    "     \n",
    "    elif(x==3):\n",
    "        i=y*z\n",
    "        print(y, \" * \", z,\" = \", i) \n",
    "          \n",
    "    else:\n",
    "        i=y/z\n",
    "        print(y, \" / \", z,\" = \", i)\n",
    "        \n",
    "    cal=input(\"Do you want to do another calculation (y/n)\")\n",
    "    if (cal=='y'):\n",
    "        continue\n",
    "    else:\n",
    "        print(\"Bye...\")\n",
    "        break"
   ]
  },
  {
   "cell_type": "code",
   "execution_count": 39,
   "metadata": {},
   "outputs": [
    {
     "name": "stdout",
     "output_type": "stream",
     "text": [
      "Enter a number so see Magic : 10\n",
      "* \n",
      "* * \n",
      "* * * \n",
      "* * * * \n",
      "* * * * * \n",
      "* * * * * * \n",
      "* * * * * * * \n",
      "* * * * * * * * \n",
      "* * * * * * * * * \n",
      "* * * * * * * * * * \n",
      "* * * * * * * * * \n",
      "* * * * * * * * \n",
      "* * * * * * * \n",
      "* * * * * * \n",
      "* * * * * \n",
      "* * * * \n",
      "* * * \n",
      "* * \n",
      "* \n"
     ]
    }
   ],
   "source": [
    "'''3. Write a Python program to construct the following pattern, using a nested\n",
    "loop. The longest line (n) is from user input (e.g., n=5 for the following pattern).\n",
    "(45 mins)\n",
    "*\n",
    "* *\n",
    "* * *\n",
    "* * * *\n",
    "* * * * *\n",
    "* * * *\n",
    "* * *\n",
    "* *\n",
    "*'''\n",
    "x=int(input(\"Enter a number so see Magic : \"))\n",
    "j=x-1\n",
    "\n",
    "for i in range(1, x+1):\n",
    "    print(\"* \" *i)\n",
    "for j in range(j, 0, -1):   \n",
    "    print(\"* \" *j)"
   ]
  },
  {
   "cell_type": "code",
   "execution_count": 47,
   "metadata": {},
   "outputs": [
    {
     "name": "stdout",
     "output_type": "stream",
     "text": [
      "Enter a number so see Magic : 3\n",
      "*\n",
      "**\n",
      "***\n",
      "****\n"
     ]
    }
   ],
   "source": [
    "x=int(input(\"Enter a number so see Magic : \"))\n",
    "n=x*2-1\n",
    "#print(n)\n",
    "\n",
    "for i in range(1, n):\n",
    "    "
   ]
  }
 ],
 "metadata": {
  "kernelspec": {
   "display_name": "Python 3",
   "language": "python",
   "name": "python3"
  },
  "language_info": {
   "codemirror_mode": {
    "name": "ipython",
    "version": 3
   },
   "file_extension": ".py",
   "mimetype": "text/x-python",
   "name": "python",
   "nbconvert_exporter": "python",
   "pygments_lexer": "ipython3",
   "version": "3.7.3"
  }
 },
 "nbformat": 4,
 "nbformat_minor": 2
}
