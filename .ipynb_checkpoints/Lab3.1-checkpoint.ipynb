{
 "cells": [
  {
   "cell_type": "code",
   "execution_count": 23,
   "metadata": {},
   "outputs": [
    {
     "name": "stdout",
     "output_type": "stream",
     "text": [
      "Enter the the trace of the Robot :up 5\n",
      "Enter the the trace of the Robot :down 1\n",
      "Enter the the trace of the Robot :right 5\n",
      "Enter the the trace of the Robot :left 0\n",
      "Enter the the trace of the Robot :x\n",
      "Origin : [0, 0]\n",
      "Current Location : [5, 4]\n",
      "Distance : 6\n"
     ]
    }
   ],
   "source": [
    "'''Exercise 1.\n",
    "A robot moves in a plane starting from the original point (0,0). The robot can move toward UP,\n",
    "DOWN, LEFT, and RIGHT with a given steps. The trace of robot movement is shown as the\n",
    "following:\n",
    "UP 7\n",
    "DOWN 5\n",
    "LEFT 2\n",
    "RIGHT 9\n",
    "X\n",
    "The numbers after the direction are steps. Please write a Python program to compute the\n",
    "distance from the current position after a sequence of movement and original point. If the\n",
    "distance is a float, then just print the nearest integer.\n",
    "Example:\n",
    "If the following movements obtained from the user input are given to the program:\n",
    "UP 5\n",
    "DOWN 3\n",
    "LEFT 3\n",
    "RIGHT 2\n",
    "X\n",
    "Then the output of the program should be: 2\n",
    "Note: X means the end of movement.'''\n",
    "\n",
    "import math\n",
    "\n",
    "origin = [0, 0]\n",
    "newLoc = [0, 0]\n",
    "movement =[]\n",
    "\n",
    "while(True):\n",
    "    i = input(\"Enter the the trace of the Robot :\")\n",
    "    i = i.capitalize()\n",
    "    \n",
    "    if i == 'X':\n",
    "        break\n",
    "    else:        \n",
    "        movement.append(i.split())\n",
    "        continue                \n",
    "    \n",
    "for i in movement:\n",
    "    if i[0] == 'Up':\n",
    "        newLoc[1] = newLoc[1]+int(i[1])\n",
    "   \n",
    "    elif i[0] == 'Down':\n",
    "        newLoc[1] = newLoc[1]-int(i[1])\n",
    "   \n",
    "    elif i[0] == 'Right':\n",
    "        newLoc[0] = newLoc[0]+int(i[1])\n",
    "   \n",
    "    elif i[0] == 'Left':\n",
    "        newLoc[0] = newLoc[0]-int(i[1])\n",
    "   \n",
    "    else:\n",
    "        print(\"Wrong Inputs!!\")\n",
    "\n",
    "dist = math.sqrt(newLoc[0]**2 + newLoc[1]**2)\n",
    "\n",
    "print(\"Origin :\", origin)\n",
    "print(\"Current Location :\", newLoc)\n",
    "\n",
    "\n",
    "print(\"Distance :\", round(dist))      "
   ]
  },
  {
   "cell_type": "code",
   "execution_count": 34,
   "metadata": {
    "scrolled": true
   },
   "outputs": [
    {
     "name": "stdout",
     "output_type": "stream",
     "text": [
      "Enter a sentence :hey\n",
      "Enter a sentence :guppy\n",
      "Enter a sentence :trick or treat?\n",
      "Enter a sentence :hmmmm\n",
      "Enter a sentence :okay bye\n",
      "Enter a sentence :x\n",
      "[['Hey'], ['Guppy'], ['Trick', 'or', 'treat?'], ['Hmmmm'], ['Okay', 'bye']]\n"
     ]
    }
   ],
   "source": [
    "'''Exercise 2.\n",
    "Write a Python program to compute the frequency of words from the article. The output should\n",
    "output after sorting the key alphanumerically. Suppose the article is obtained from the user. The\n",
    "input ends until the user sends a new line: X\n",
    "Example:\n",
    "Please provide the article:\n",
    "Beginner means someone who has just gone through an introductory Python course.\n",
    "He can solve some problems with 1 or 2 Python classes or functions.\n",
    "Normally, the answers could directly be found in the textbooks.\n",
    "Intermediate means someone who has just learned Python, but already has a relatively strong\n",
    "programming background from before.\n",
    "X\n",
    "Output:\n",
    "1: 1\n",
    "2: 1\n",
    "an: 1\n",
    ".\n",
    ".\n",
    ".\n",
    "'''\n",
    "article = []\n",
    "mydict = {}\n",
    "\n",
    "while(True):\n",
    "    sentence = input(\"Enter a sentence :\")\n",
    "    sentence = sentence.capitalize()\n",
    "    \n",
    "    if(sentence=='X'):\n",
    "        break\n",
    "    else:\n",
    "        article.append(sentence.split())\n",
    "\n",
    "print(article)"
   ]
  }
 ],
 "metadata": {
  "kernelspec": {
   "display_name": "Python 3",
   "language": "python",
   "name": "python3"
  },
  "language_info": {
   "codemirror_mode": {
    "name": "ipython",
    "version": 3
   },
   "file_extension": ".py",
   "mimetype": "text/x-python",
   "name": "python",
   "nbconvert_exporter": "python",
   "pygments_lexer": "ipython3",
   "version": "3.7.3"
  }
 },
 "nbformat": 4,
 "nbformat_minor": 2
}
