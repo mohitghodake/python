{
 "cells": [
  {
   "cell_type": "code",
   "execution_count": null,
   "metadata": {},
   "outputs": [],
   "source": [
    "'''1. Write a program that accepts a sentence from the keyboard, calculate and print out\n",
    "each unique character and its corresponding number of occurrence. Don’t count spaces.\n",
    "For example, if the input sentence is: the world is beautiful! , then the output should be\n",
    "the following:\n",
    "Hint:\n",
    "1) use index to get a character in a string\n",
    "2) use dictionary to store characters and their corresponding values (# of appearance)\n",
    "a , 1\n",
    "! , 1\n",
    "b , 1\n",
    "e , 2\n",
    "d , 1\n",
    "f , 1\n",
    "i , 2\n",
    "h , 1\n",
    "l , 2\n",
    "o , 1\n",
    "s , 1\n",
    "r , 1\n",
    "u , 2\n",
    "t , 2\n",
    "w , 1\n",
    "'''\n",
    "\n",
    "text = input(\"Enter a sentence: \")\n",
    "sentence = text.replace(\" \", \"\")\n",
    "count = 1\n",
    "newdict = {}\n",
    "\n",
    "for i in sentence:\n",
    "    if i in newdict:\n",
    "        newdict[i] += count\n",
    "    else:\n",
    "        newdict[i] = count\n",
    "    \n",
    "for k,v in newdict.items():\n",
    "    print(k, \",\", v)\n"
   ]
  },
  {
   "cell_type": "code",
   "execution_count": 45,
   "metadata": {},
   "outputs": [
    {
     "name": "stdout",
     "output_type": "stream",
     "text": [
      "Please select an operation: 1. Sort by key, 2. Sort by value: 2\n",
      "y\n",
      "m\n",
      "a\n",
      "x\n"
     ]
    }
   ],
   "source": [
    "'''2. Write a program that can sort a given dictionary either by key or value. The program\n",
    "allows users to choose operations (1: sort by key, 2: sort by value). If the given dictionary\n",
    "is: d={'x': 7, 'y': 2, 'a': 3, 'm': 2}, the running output is following.\n",
    "please select operation: (1: sort by key, 2: sort by value) 1\n",
    "a , 3\n",
    "m , 2\n",
    "x , 7\n",
    "y , 2\n",
    "please select operation: (1: sort by key, 2: sort by value) 2\n",
    "y , 2\n",
    "m , 2\n",
    "a , 3\n",
    "x , 7\n",
    "'''\n",
    "\n",
    "d = {'x': 7, 'y': 2, 'a': 3, 'm': 2}\n",
    "keyList =[]\n",
    "valueList = []\n",
    "\n",
    "for i in d.keys():\n",
    "    keyList.append(i)\n",
    "\n",
    "for i in d.values():\n",
    "    valueList.append(i)\n",
    "\n",
    "choice = int(input(\"Please select an operation: 1. Sort by key, 2. Sort by value: \"))\n",
    "\n",
    "if choice == 1:\n",
    "    sortedKey = sorted(keyList)\n",
    "    for i in sortedKey:\n",
    "        print(i, \" , \", d[i])\n",
    "\n",
    "elif choice == 2:\n",
    "    sortedValue = sorted(valueList)\n",
    "    newList=[]\n",
    "    \n",
    "    for k,v in d.items():\n",
    "        t=(k,v)\n",
    "        newList.append(t)\n",
    "    \n",
    "    sortedList = sorted(newList, key = lambda x: x[1])\n",
    "    \n",
    "    for i in sortedList:\n",
    "        print(i[0], \",\", i[1])\n",
    "    \n",
    "else:\n",
    "    print(\"Invalid Choice!\")"
   ]
  }
 ],
 "metadata": {
  "kernelspec": {
   "display_name": "Python 3",
   "language": "python",
   "name": "python3"
  },
  "language_info": {
   "codemirror_mode": {
    "name": "ipython",
    "version": 3
   },
   "file_extension": ".py",
   "mimetype": "text/x-python",
   "name": "python",
   "nbconvert_exporter": "python",
   "pygments_lexer": "ipython3",
   "version": "3.7.3"
  }
 },
 "nbformat": 4,
 "nbformat_minor": 2
}
