{
 "cells": [
  {
   "cell_type": "code",
   "execution_count": null,
   "metadata": {},
   "outputs": [],
   "source": [
    "'''1. Given an array A (distinct elements) of size N. Rearrange the\n",
    "elements of array in zig-zag fashion. The converted array should be in\n",
    "form a < b > c < d > e < f. The relative order of elements is same in the\n",
    "output i.e you have to iterate on the original array only.\n",
    "Input:\n",
    "Each test case takes a line containing N space-separated integers\n",
    "denoting the elements of the array.\n",
    "Output:\n",
    "For each test case, print the array in Zig-Zag fashion.\n",
    "Constraints:\n",
    "1 <= N <= 100\n",
    "0 <= Ai <= 10000\n",
    "Example:\n",
    "Input:\n",
    "4 3 7 8 6 2 1\n",
    "1 4 3 2\n",
    "Output:\n",
    "3 7 4 8 2 6 1\n",
    "1 4 2 3\n",
    "'''"
   ]
  }
 ],
 "metadata": {
  "kernelspec": {
   "display_name": "Python 3",
   "language": "python",
   "name": "python3"
  },
  "language_info": {
   "codemirror_mode": {
    "name": "ipython",
    "version": 3
   },
   "file_extension": ".py",
   "mimetype": "text/x-python",
   "name": "python",
   "nbconvert_exporter": "python",
   "pygments_lexer": "ipython3",
   "version": "3.7.3"
  }
 },
 "nbformat": 4,
 "nbformat_minor": 2
}
